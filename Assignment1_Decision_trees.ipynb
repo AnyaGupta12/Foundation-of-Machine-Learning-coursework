{
  "nbformat": 4,
  "nbformat_minor": 0,
  "metadata": {
    "colab": {
      "provenance": []
    },
    "kernelspec": {
      "name": "python3",
      "display_name": "Python 3"
    },
    "language_info": {
      "name": "python"
    }
  },
  "cells": [
    {
      "cell_type": "code",
      "execution_count": 4,
      "metadata": {
        "id": "3IxPqtP-eJwV"
      },
      "outputs": [],
      "source": [
        "import numpy as np\n",
        "from sklearn.model_selection import train_test_split\n",
        "import pandas as pd\n",
        "import matplotlib.pyplot as plt\n"
      ]
    },
    {
      "cell_type": "markdown",
      "source": [
        "# **Importing Dataset**"
      ],
      "metadata": {
        "id": "akSrZ0K7sMEJ"
      }
    },
    {
      "cell_type": "code",
      "source": [
        "#importing the dataset\n",
        "from google.colab import drive\n",
        "drive.mount(\"/content/drive\")\n",
        "\n",
        "wine_red = pd.read_csv(\"/content/drive/MyDrive/winequality-red.csv\", sep=\",\", skipinitialspace=True, engine='python')\n",
        "wine_white = pd.read_csv(\"/content/drive/MyDrive/winequality-white.csv\", sep=\",\", skipinitialspace=True, engine='python')\n"
      ],
      "metadata": {
        "colab": {
          "base_uri": "https://localhost:8080/"
        },
        "id": "aesp7sbqeLaQ",
        "outputId": "d9f01965-83dc-44a7-e051-67ab30e1171d"
      },
      "execution_count": 64,
      "outputs": [
        {
          "output_type": "stream",
          "name": "stdout",
          "text": [
            "Drive already mounted at /content/drive; to attempt to forcibly remount, call drive.mount(\"/content/drive\", force_remount=True).\n"
          ]
        }
      ]
    },
    {
      "cell_type": "markdown",
      "source": [
        "# **Data Pre-processing**\n",
        "- Merging Winequality_white and wine_quality_red data samples\n",
        "- Updating the class label (Quality) to a binary class\n",
        "- Spliting the train and test sample in a ratio of 8:2"
      ],
      "metadata": {
        "id": "p8Q0nqb-sTYa"
      }
    },
    {
      "cell_type": "code",
      "source": [
        "#concatinating both data sets\n",
        "\n",
        "data_list = [wine_red,wine_white]\n",
        "df = pd.concat(data_list)\n",
        "# making the index values continuous after concatenation\n",
        "df = df.reset_index()\n",
        "df = df.drop('index', axis=1)\n",
        "#print (df)\n",
        "print (df.shape)"
      ],
      "metadata": {
        "colab": {
          "base_uri": "https://localhost:8080/"
        },
        "id": "FSO7wQiOgDug",
        "outputId": "3885ab29-e111-466e-e1db-9e7b38407e0e"
      },
      "execution_count": 65,
      "outputs": [
        {
          "output_type": "stream",
          "name": "stdout",
          "text": [
            "(6497, 12)\n"
          ]
        }
      ]
    },
    {
      "cell_type": "code",
      "source": [
        "# processing the dataset - the target column needs to be separated into 2 classes\n",
        "### Class 0: for quality < 7\n",
        "### Class 1: for quality >= 7\n",
        "\n",
        "for i, rows in df.iterrows():\n",
        "    if df.at[i,'quality'] < 7:\n",
        "        df.at[i,'quality'] = 0\n",
        "    else:\n",
        "        df.at[i,'quality'] = 1\n",
        "\n",
        "\n",
        "# separating features and target column\n",
        "X = df.drop('quality', axis=1)\n",
        "y = df.quality\n",
        "\n",
        "X = X.to_numpy()\n",
        "y = y.to_numpy()\n",
        "\n",
        "print (X, y)"
      ],
      "metadata": {
        "colab": {
          "base_uri": "https://localhost:8080/"
        },
        "id": "VKTOBkneg9k9",
        "outputId": "9ca4a315-2e7e-410f-8a55-7284d7ba17e4"
      },
      "execution_count": 66,
      "outputs": [
        {
          "output_type": "stream",
          "name": "stdout",
          "text": [
            "[[ 7.4   0.7   0.   ...  3.51  0.56  9.4 ]\n",
            " [ 7.8   0.88  0.   ...  3.2   0.68  9.8 ]\n",
            " [ 7.8   0.76  0.04 ...  3.26  0.65  9.8 ]\n",
            " ...\n",
            " [ 6.5   0.24  0.19 ...  2.99  0.46  9.4 ]\n",
            " [ 5.5   0.29  0.3  ...  3.34  0.38 12.8 ]\n",
            " [ 6.    0.21  0.38 ...  3.26  0.32 11.8 ]] [0 0 0 ... 0 1 0]\n"
          ]
        }
      ]
    },
    {
      "cell_type": "code",
      "source": [
        "# class 0 and class 1 division\n",
        "print (np.bincount(y))"
      ],
      "metadata": {
        "colab": {
          "base_uri": "https://localhost:8080/"
        },
        "id": "2heooZO8hGD8",
        "outputId": "8df4a9fc-f0c4-48d6-bc4a-962cfc81bb60"
      },
      "execution_count": 67,
      "outputs": [
        {
          "output_type": "stream",
          "name": "stdout",
          "text": [
            "[5220 1277]\n"
          ]
        }
      ]
    },
    {
      "cell_type": "code",
      "source": [
        "## spliting data into train and test\n",
        "\n",
        "X_train, X_test, y_train, y_test = train_test_split(X,y, test_size = 0.2, random_state= 30)\n",
        "\n",
        "print (np.bincount(y_train), np.bincount(y_test))\n",
        "#print (X_train.shape)"
      ],
      "metadata": {
        "colab": {
          "base_uri": "https://localhost:8080/"
        },
        "id": "qSXVOyz6hR-f",
        "outputId": "8ac9b708-a40c-42a7-d52e-5fcae671981f"
      },
      "execution_count": 68,
      "outputs": [
        {
          "output_type": "stream",
          "name": "stdout",
          "text": [
            "[4164 1033] [1056  244]\n"
          ]
        }
      ]
    },
    {
      "cell_type": "markdown",
      "source": [
        "# **Defining the functions**\n",
        "- Entropy\n",
        "- Information Gain\n",
        "- Choosing the split function and split point\n"
      ],
      "metadata": {
        "id": "UeWw1MnVsxKb"
      }
    },
    {
      "cell_type": "code",
      "source": [
        "## entropy function - for calculating the subset's entropy\n",
        "\n",
        "def entropy(y):\n",
        "  entropy = 0\n",
        "  no_of_occurences = np.bincount(y) # returns a list of counts of unique values\n",
        "  #print (y)\n",
        "  for i in no_of_occurences:\n",
        "    if i > 0:\n",
        "      prob = i/len(y)\n",
        "      entropy += ((-1)*prob*(np.log2(prob)))\n",
        "  return entropy\n",
        "\n",
        "print(entropy(y_train))"
      ],
      "metadata": {
        "colab": {
          "base_uri": "https://localhost:8080/"
        },
        "id": "rVybKN3uiWal",
        "outputId": "a6f4d5c7-01b9-463a-c108-4ef17ec3224e"
      },
      "execution_count": 69,
      "outputs": [
        {
          "output_type": "stream",
          "name": "stdout",
          "text": [
            "0.7194582877151645\n"
          ]
        }
      ]
    },
    {
      "cell_type": "code",
      "source": [
        "#defining the function for calculating information gain\n",
        "\n",
        "def information_gain(column_data,y,threshold, entropy_gini):\n",
        "  #information gain = entropy(parent)-{(weighted average)*Entropy(subclass)}\n",
        "  #information gain = gini_index(parent)-{(weighted average)*gini_index(subclass)}\n",
        "  left_idxs = np.zeros(len(column_data))\n",
        "  right_idxs = np.zeros(len(column_data))\n",
        "\n",
        "  left_idxs = np.array(left_idxs, dtype='bool')\n",
        "  right_idxs = np.array(right_idxs, dtype='bool')\n",
        "\n",
        "  for i in range(len(column_data)):\n",
        "    if column_data[i]<threshold:\n",
        "      left_idxs[i] = True\n",
        "      right_idxs[i] = False\n",
        "    else:\n",
        "      left_idxs[i] = False\n",
        "      right_idxs[i] = True\n",
        "\n",
        "\n",
        "  #handling the case where all samples belong to the same class - Information gain in such case = 0\n",
        "  if np.all(left_idxs) or np.all(right_idxs):\n",
        "    return 0\n",
        "\n",
        "  left_y = y[left_idxs]\n",
        "  right_y = y[right_idxs]\n",
        "\n",
        "  if entropy_gini == 0:\n",
        "    parent_entropy = entropy(y)\n",
        "    weight_avg = (len(left_y) / len(y)) * entropy(left_y) + (len(right_y) / len(y)) * entropy(right_y)\n",
        "    information_gain = parent_entropy - weight_avg\n",
        "\n",
        "  elif entropy_gini == 1:\n",
        "    parent_gini_impurity = gini_impurity(y)\n",
        "    weight_avg = (len(left_y) / len(y)) * gini_impurity(left_y) + (len(right_y) / len(y)) * gini_impurity(right_y)\n",
        "    information_gain = parent_gini_impurity - weight_avg\n",
        "\n",
        "\n",
        "  return information_gain\n",
        "\n"
      ],
      "metadata": {
        "id": "uxJ7SrDU5nlE"
      },
      "execution_count": 72,
      "outputs": []
    },
    {
      "cell_type": "code",
      "source": [
        "#finding the column to split on: the one with maximum information gain\n",
        "## and the value at which splitting takes place\n",
        "\n",
        "def splitting_criteria(X, y, column_list, entropy_gini):\n",
        "  max_gain = -1\n",
        "  threshold, feature = None, None\n",
        "  for i in column_list:\n",
        "    #print(i)\n",
        "    column_data = X[:,i]\n",
        "    distinct_column_values = np.unique(column_data)\n",
        "    for j in distinct_column_values:\n",
        "      info_gain = information_gain(column_data, y, j, entropy_gini)\n",
        "      if info_gain > max_gain:\n",
        "        max_gain = info_gain\n",
        "        threshold = j\n",
        "        feature = i\n",
        "  return feature, threshold"
      ],
      "metadata": {
        "id": "nmhOyjZd3DCQ"
      },
      "execution_count": 73,
      "outputs": []
    },
    {
      "cell_type": "markdown",
      "source": [
        "# **Creating a tree node**"
      ],
      "metadata": {
        "id": "5jecnPqzjuGV"
      }
    },
    {
      "cell_type": "code",
      "source": [
        "class Node:\n",
        "    def __init__(self, feature=None, threshold=None, left=None, right=None,*,value=None):\n",
        "        self.feature = feature\n",
        "        self.threshold = threshold\n",
        "        self.left = left\n",
        "        self.right = right\n",
        "        self.value = value\n",
        "\n",
        "    def is_leaf_node(self):\n",
        "        return self.value is not None"
      ],
      "metadata": {
        "id": "Ih8MJ7ecjs9l"
      },
      "execution_count": 74,
      "outputs": []
    },
    {
      "cell_type": "code",
      "source": [
        "print (X.shape)"
      ],
      "metadata": {
        "colab": {
          "base_uri": "https://localhost:8080/"
        },
        "id": "QZO0k60cniuE",
        "outputId": "45184ca6-8b0c-43b1-e616-2d560857c9f7"
      },
      "execution_count": 263,
      "outputs": [
        {
          "output_type": "stream",
          "name": "stdout",
          "text": [
            "(6497, 11)\n"
          ]
        }
      ]
    },
    {
      "cell_type": "markdown",
      "source": [
        "# **Building the Decision tree**"
      ],
      "metadata": {
        "id": "l0hsHTPukAMz"
      }
    },
    {
      "cell_type": "code",
      "source": [
        "class DecisionTree:\n",
        "    #initializing the class\n",
        "    def __init__(self, min_samples_split=2, max_depth=100, n_features=None, entropy_gini = 0):\n",
        "        self.min_samples_split=min_samples_split\n",
        "        self.max_depth=max_depth\n",
        "        self.n_features=n_features # no. of features to be considered while checking the best split\n",
        "        self.root=None\n",
        "        ## keeping this variable for deciding whether to use entropy or gini_impurity\n",
        "        ### entropy_gini == 0, implies use entropy.\n",
        "        ### entropy_gini == 1, implies use gini impurity\n",
        "        ## By default it will take entropy\n",
        "        self.entropy_gini = entropy_gini\n",
        "\n",
        "    def fit(self, X, y):\n",
        "        self.n_features = X.shape[1] if not self.n_features else min(X.shape[1],self.n_features)\n",
        "        self.root = self.growth(X, y)\n",
        "        return self.root\n",
        "\n",
        "    def growth(self, X, y, depth=0):\n",
        "        n_samples, n_feats = X.shape\n",
        "        n_labels = len(np.unique(y))\n",
        "\n",
        "        # check the stopping criteria - leaf node\n",
        "        if (depth>=self.max_depth or n_samples<self.min_samples_split):\n",
        "            leaf_value = np.bincount(y).argmax()\n",
        "            return Node(value=leaf_value)\n",
        "\n",
        "        #getting a list of shuffled feature indexes\n",
        "        feature_indexes = np.random.choice(n_feats, self.n_features, replace=False)\n",
        "\n",
        "        # Find the feature and the threshold value to split the node. Using a single threshold as it is a binary tree\n",
        "        splitting_column, splitting_thresh = splitting_criteria(X, y, feature_indexes, self.entropy_gini)\n",
        "\n",
        "        # generating a list of row indexes which will fall under left and right children\n",
        "        splitting_column_data = X[:,splitting_column]\n",
        "        l_indices = np.zeros(len(splitting_column_data))\n",
        "        r_indices = np.zeros(len(splitting_column_data))\n",
        "\n",
        "        l_indices = np.array(l_indices, dtype='bool')\n",
        "        r_indices = np.array(r_indices, dtype='bool')\n",
        "\n",
        "        for i in range(len(splitting_column_data)):\n",
        "          l_indices[i] = splitting_column_data[i]<splitting_thresh\n",
        "          r_indices[i] = splitting_column_data[i]>=splitting_thresh\n",
        "\n",
        "\n",
        "        # If all elements belong to the same class, then need not split\n",
        "        ## make it a leaf\n",
        "        if np.all(l_indices) or np.all(r_indices):\n",
        "            leaf_value = np.bincount(y).argmax()\n",
        "            return Node(value=leaf_value)\n",
        "\n",
        "        # Create left and right child nodes\n",
        "        left = self.growth(X[l_indices], y[l_indices], depth + 1)\n",
        "        right = self.growth(X[r_indices], y[r_indices], depth + 1)\n",
        "        return Node(splitting_column, splitting_thresh, left, right)\n",
        "\n",
        "\n",
        ""
      ],
      "metadata": {
        "id": "773PiZdZkPpZ"
      },
      "execution_count": 81,
      "outputs": []
    },
    {
      "cell_type": "markdown",
      "source": [
        "# **Prediction function**"
      ],
      "metadata": {
        "id": "UoqNjDljtTtv"
      }
    },
    {
      "cell_type": "code",
      "source": [
        "# creating the function to predict class labels of test samples\n",
        "def predict(X, root):\n",
        "  return np.array([tree_traversal(x, root) for x in X])\n",
        "\n",
        "def tree_traversal(x, node):\n",
        "  if node.is_leaf_node():\n",
        "    return node.value\n",
        "  elif x[node.feature] <= node.threshold:\n",
        "    return tree_traversal(x, node.left)\n",
        "  else:\n",
        "    return tree_traversal(x, node.right)"
      ],
      "metadata": {
        "id": "7CNiqz5U1pXr"
      },
      "execution_count": 76,
      "outputs": []
    },
    {
      "cell_type": "markdown",
      "source": [
        "# **Training the Decision tree**"
      ],
      "metadata": {
        "id": "crGkXmMkuBah"
      }
    },
    {
      "cell_type": "code",
      "source": [
        "dt = DecisionTree(max_depth=10) #max-depth can be changed to get a better accuracy\n",
        "root_node = dt.fit(X_train, y_train)\n"
      ],
      "metadata": {
        "id": "WV5K7M-UAGbx"
      },
      "execution_count": 88,
      "outputs": []
    },
    {
      "cell_type": "markdown",
      "source": [
        "# **Testing the model on the testing dataset**"
      ],
      "metadata": {
        "id": "dKrD19PjuR2h"
      }
    },
    {
      "cell_type": "code",
      "source": [
        "y_predicted = predict(X_test, root_node)"
      ],
      "metadata": {
        "id": "g5axBp-auPp3"
      },
      "execution_count": 89,
      "outputs": []
    },
    {
      "cell_type": "code",
      "source": [
        "# Getting the accuracy\n",
        "\n",
        "def accuracy_function(y_test, y_pred):\n",
        "  sum = 0\n",
        "  for i in range(len(y_test)):\n",
        "    if y_test[i]==y_pred[i]:\n",
        "      sum += 1\n",
        "  return sum/len(y_test)\n",
        "\n",
        "acc = accuracy_function(y_test, y_predicted)\n",
        "print(\"Accuracy:\", acc)\n"
      ],
      "metadata": {
        "colab": {
          "base_uri": "https://localhost:8080/"
        },
        "id": "t3a83XOno_Ft",
        "outputId": "5fd6ca08-4a60-4ff0-9dab-409bf447ba1a"
      },
      "execution_count": 90,
      "outputs": [
        {
          "output_type": "stream",
          "name": "stdout",
          "text": [
            "Accuracy: 0.7984615384615384\n"
          ]
        }
      ]
    },
    {
      "cell_type": "code",
      "source": [
        "row_indexes = np.arange(start=0, stop =len(y_test), step =1)\n",
        "# print (row_indexes)\n",
        "# print (y_test)"
      ],
      "metadata": {
        "colab": {
          "base_uri": "https://localhost:8080/"
        },
        "id": "iJOsUhFt-a-J",
        "outputId": "4f75d5a7-34d6-4857-f06f-a86fb90f8c77"
      },
      "execution_count": 20,
      "outputs": [
        {
          "output_type": "stream",
          "name": "stdout",
          "text": [
            "[   0    1    2 ... 1297 1298 1299]\n",
            "[0 0 0 ... 0 0 0]\n"
          ]
        }
      ]
    },
    {
      "cell_type": "markdown",
      "source": [
        "# **Visualization**\n",
        "- Confusion matrix\n",
        "- Scatter plot"
      ],
      "metadata": {
        "id": "qFBTNxUtt9G2"
      }
    },
    {
      "cell_type": "code",
      "source": [
        "# Printing the confusion matrix\n",
        "from sklearn import metrics\n",
        "\n",
        "confusion_matrix = metrics.confusion_matrix(y_test, y_predicted)\n",
        "\n",
        "cm_display = metrics.ConfusionMatrixDisplay(confusion_matrix = confusion_matrix, display_labels = [0, 1])\n",
        "\n",
        "cm_display.plot()\n",
        "plt.show()"
      ],
      "metadata": {
        "colab": {
          "base_uri": "https://localhost:8080/",
          "height": 449
        },
        "id": "lxtCVeqRCG0j",
        "outputId": "f9ffe108-cbc5-4338-a6fb-1f0a6fdaabf8"
      },
      "execution_count": 21,
      "outputs": [
        {
          "output_type": "display_data",
          "data": {
            "text/plain": [
              "<Figure size 640x480 with 2 Axes>"
            ],
            "image/png": "[encoded data removed]"
          },
          "metadata": {}
        }
      ]
    },
    {
      "cell_type": "code",
      "source": [
        "#plotting a scatter plot - predicted class label and actual class label\n",
        "\n",
        "#plotting i points for better visualization\n",
        "i = 30\n",
        "\n",
        "# Plotting y_train and predictions\n",
        "plt.figure(figsize=(12, 6))\n",
        "\n",
        "# Plot training labels\n",
        "##Actual class labels\n",
        "plt.scatter(row_indexes[:i], y_test[:i])\n",
        "##Predicted class labels\n",
        "plt.scatter(row_indexes[:i], y_predicted[:i])\n",
        "\n",
        "plt.xlabel('Sample indexes')\n",
        "plt.ylabel('Class Label')\n",
        "plt.title('Comparison of Actual class Labels and Predicted class clabels')\n",
        "plt.legend()\n",
        "plt.show()"
      ],
      "metadata": {
        "colab": {
          "base_uri": "https://localhost:8080/",
          "height": 581
        },
        "id": "kLRCMpLv7_Ns",
        "outputId": "9d4dbd20-f8ed-4342-94e2-ea2b508ca528"
      },
      "execution_count": 22,
      "outputs": [
        {
          "output_type": "stream",
          "name": "stderr",
          "text": [
            "WARNING:matplotlib.legend:No artists with labels found to put in legend.  Note that artists whose label start with an underscore are ignored when legend() is called with no argument.\n"
          ]
        },
        {
          "output_type": "display_data",
          "data": {
            "text/plain": [
              "<Figure size 1200x600 with 1 Axes>"
            ],
            "image/png": "[encoded data removed]"
          },
          "metadata": {}
        }
      ]
    },
    {
      "cell_type": "markdown",
      "source": [
        "# **K fold cross validation : with k=10**"
      ],
      "metadata": {
        "id": "H2BdQPfpwPgt"
      }
    },
    {
      "cell_type": "code",
      "source": [
        "# splitting the entire data set into 10 parts randomly\n",
        "\n",
        "y_train = y_train.reshape(-1, 1)\n",
        "data = np.concatenate((X_train, y_train), axis=1)\n",
        "y_train = y_train.flatten()\n",
        "#print (data.shape)\n",
        "\n",
        "#splitting the dataset\n",
        "size_of_fold = data.shape[0]//10\n",
        "last_fold_size = size_of_fold + data.shape[0]%10\n",
        "#print ((size_of_fold*9)+(last_fold_size), df.shape[0])\n",
        "\n",
        "folds = []\n",
        "for i in range(0,data.shape[0],size_of_fold):\n",
        "  folds.append(data[i:i+size_of_fold])  # 11 folds created, last fold with the remainder 7 elements\n",
        "\n",
        "folds[9] = np.concatenate((folds[9],folds[10]), axis=0)\n",
        "del folds[10]\n",
        "# print (len(folds))\n",
        "# for i in range(len(folds)):\n",
        "#   print (folds[i].shape)\n",
        "# print(size_of_fold,last_fold_size)"
      ],
      "metadata": {
        "id": "ZxVIv37twYpU"
      },
      "execution_count": 91,
      "outputs": []
    },
    {
      "cell_type": "code",
      "source": [
        "#making the k-fold validation function\n",
        "def k_fold(train_data, test_data):\n",
        "  train_X = train_data[:, :-1]\n",
        "  train_y = (train_data[:, -1]).astype(int)\n",
        "\n",
        "  test_X = test_data[:, :-1]\n",
        "  test_y = (test_data[:, -1]).astype(int)\n",
        "\n",
        "  dt = DecisionTree(max_depth=5) #defualt case will use entropy\n",
        "  root_node = dt.fit(train_X, train_y)\n",
        "\n",
        "  y_predicted = predict(test_X, root_node)\n",
        "\n",
        "  accuracy_value = accuracy_function(test_y, y_predicted)\n",
        "  return accuracy_value\n"
      ],
      "metadata": {
        "id": "jJu3Mcf060r9"
      },
      "execution_count": 98,
      "outputs": []
    },
    {
      "cell_type": "code",
      "source": [
        "#executing the K fold cross validation and storing the accuracies in an array\n",
        "\n",
        "accuracy_k_fold = []\n",
        "\n",
        "#keeping 9 folds for training and 1 fold for testing and calling the k-fold validation function\n",
        "for i in range(len(folds)):\n",
        "  test_data = folds[i]\n",
        "  temp = []\n",
        "  for j in range(len(folds)):\n",
        "    if j!=i:\n",
        "      temp.append(folds[j])\n",
        "  train_data = temp[0]\n",
        "  for j in range(1,len(temp)):\n",
        "    train_data = np.concatenate((train_data,folds[j]), axis=0)\n",
        "\n",
        "  #print(train_data)\n",
        "\n",
        "  #calling the k-fold validation function\n",
        "  accuracy_value = k_fold(train_data, test_data)\n",
        "  accuracy_k_fold.append(accuracy_value)\n",
        "\n",
        "print (accuracy_k_fold)"
      ],
      "metadata": {
        "colab": {
          "base_uri": "https://localhost:8080/"
        },
        "id": "bg5xfujw51tA",
        "outputId": "54893ff6-8c7b-4ac7-ddd5-6d3336ec1041"
      },
      "execution_count": 99,
      "outputs": [
        {
          "output_type": "stream",
          "name": "stdout",
          "text": [
            "[0.8516377649325626, 0.8362235067437379, 0.8246628131021194, 0.8208092485549133, 0.8285163776493256, 0.8111753371868978, 0.8458574181117534, 0.8342967244701349, 0.8265895953757225, 0.8231939163498099]\n"
          ]
        }
      ]
    },
    {
      "cell_type": "code",
      "source": [
        "#Calculating average accuracy\n",
        "\n",
        "average_accuracy = sum(accuracy_k_fold)/len(accuracy_k_fold)\n",
        "print (\"Accuracy of K-fold validation:\", average_accuracy)"
      ],
      "metadata": {
        "colab": {
          "base_uri": "https://localhost:8080/"
        },
        "id": "c5ThB21tPS9p",
        "outputId": "528e93f6-ce8f-475e-fa1c-6690652b8acf"
      },
      "execution_count": 97,
      "outputs": [
        {
          "output_type": "stream",
          "name": "stdout",
          "text": [
            "Accuracy of K-fold validation: 0.8335820567484999\n"
          ]
        }
      ]
    },
    {
      "cell_type": "markdown",
      "source": [
        "# **Improvements**\n",
        "- Using Gini index as a measure instead on entropy"
      ],
      "metadata": {
        "id": "flXrV7nVuQD-"
      }
    },
    {
      "cell_type": "markdown",
      "source": [
        "# **Using Gini impurity**"
      ],
      "metadata": {
        "id": "yiqKmN3SORdS"
      }
    },
    {
      "cell_type": "code",
      "source": [
        "# Defining gini_impurity function\n",
        "def gini_impurity(y):\n",
        "  gini_index = 1\n",
        "  occurence = np.bincount(y) # returns a list of counts of unique values\n",
        "  #print (occurence)\n",
        "  for i in occurence:\n",
        "    if i > 0:\n",
        "      prob = i/len(y)\n",
        "      gini_index -= (prob**2)\n",
        "  return gini_index\n",
        "\n",
        "print (\"parent_gini_index:\", gini_impurity(y_train))"
      ],
      "metadata": {
        "colab": {
          "base_uri": "https://localhost:8080/"
        },
        "id": "SPlxTwPEubTT",
        "outputId": "f13fe8f3-359f-4e04-b324-106f24b88c3c"
      },
      "execution_count": 35,
      "outputs": [
        {
          "output_type": "stream",
          "name": "stdout",
          "text": [
            "parent_gini_index: 0.3185191912757057\n"
          ]
        }
      ]
    },
    {
      "cell_type": "code",
      "source": [
        "# Training the dataset using gini index\n",
        "\n",
        "#added a parameter in the DecisionTree class\n",
        "### entropy_gini == 0, implies use entropy.\n",
        "### entropy_gini == 1, implies use gini impurity\n",
        "## By default it will take entropy if nothing specified\n",
        "\n",
        "dt = DecisionTree(max_depth=5, entropy_gini=1)\n",
        "root_node = dt.fit(X_train, y_train)"
      ],
      "metadata": {
        "id": "YLzmzo39KYF0"
      },
      "execution_count": 48,
      "outputs": []
    },
    {
      "cell_type": "code",
      "source": [
        "#Predicting the class values\n",
        "y_predicted = predict(X_test, root_node)"
      ],
      "metadata": {
        "id": "gCy33oaCNXNc"
      },
      "execution_count": 49,
      "outputs": []
    },
    {
      "cell_type": "code",
      "source": [
        "#Calculating the accuracy\n",
        "\n",
        "accuracy_gini = accuracy_function(y_test, y_predicted)\n",
        "print(\"Accuracy using gini_impurity:\", accuracy_gini)"
      ],
      "metadata": {
        "colab": {
          "base_uri": "https://localhost:8080/"
        },
        "id": "dAdY777WNcrw",
        "outputId": "850f4473-c4d7-4866-fe84-efc363a50968"
      },
      "execution_count": 50,
      "outputs": [
        {
          "output_type": "stream",
          "name": "stdout",
          "text": [
            "Accuracy using gini_impurity: 0.8246153846153846\n"
          ]
        }
      ]
    },
    {
      "cell_type": "code",
      "source": [],
      "metadata": {
        "id": "Bacnn--mO_JW"
      },
      "execution_count": null,
      "outputs": []
    }
  ]
}